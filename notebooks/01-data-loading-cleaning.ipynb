{
 "cells": [
  {
   "cell_type": "markdown",
   "metadata": {},
   "source": [
    "## List of Libraries to be used"
   ]
  },
  {
   "cell_type": "code",
   "execution_count": 1,
   "metadata": {},
   "outputs": [],
   "source": [
    "import pandas as pd\n",
    "import os\n",
    "from copy import deepcopy\n",
    "import time\n"
   ]
  },
  {
   "cell_type": "markdown",
   "metadata": {},
   "source": [
    "#### Movie Titles Information"
   ]
  },
  {
   "cell_type": "code",
   "execution_count": 2,
   "metadata": {},
   "outputs": [],
   "source": [
    "movies = pd.read_csv('/Users/bhargavdevarapalli/Documents/Brain_Station_Final_Project/DATA/movie_titles.csv',\n",
    "                      names = ['Id', 'Year', 'Name']\n",
    "                      ,encoding='ISO-8859-1',on_bad_lines='skip')"
   ]
  },
  {
   "cell_type": "markdown",
   "metadata": {},
   "source": [
    "#### Loading Data from the txt files"
   ]
  },
  {
   "cell_type": "code",
   "execution_count": 3,
   "metadata": {},
   "outputs": [],
   "source": [
    "files = ['combined_data_1.txt','combined_data_2.txt','combined_data_3.txt','combined_data_4.txt']"
   ]
  },
  {
   "cell_type": "code",
   "execution_count": 4,
   "metadata": {},
   "outputs": [
    {
     "data": {
      "text/plain": [
       "'\\n1:\\n1488844,3,2005-09-06\\n822109,5,2005-05-13\\n885013,4,2005-10-19\\n30878,4,2005-12-26\\n823519,3,2004-05-03\\n893988,3,2005-11-17\\n\\n'"
      ]
     },
     "execution_count": 4,
     "metadata": {},
     "output_type": "execute_result"
    }
   ],
   "source": [
    "## Sample Structure \n",
    "\n",
    "\"\"\"\n",
    "1:\n",
    "1488844,3,2005-09-06\n",
    "822109,5,2005-05-13\n",
    "885013,4,2005-10-19\n",
    "30878,4,2005-12-26\n",
    "823519,3,2004-05-03\n",
    "893988,3,2005-11-17\n",
    "\n",
    "\"\"\""
   ]
  },
  {
   "cell_type": "code",
   "execution_count": 5,
   "metadata": {},
   "outputs": [],
   "source": [
    "def file_process(file):\n",
    "    \n",
    "    \n",
    "    path =  '/Users/bhargavdevarapalli/Documents/Brain_Station_Final_Project/DATA' + '/' + file\n",
    "    \n",
    "    staging = []\n",
    "    \n",
    "    with open(path, 'r') as file:\n",
    "        id_value = ''\n",
    "        for line in file:\n",
    "            line = line.strip()\n",
    "            \n",
    "            \n",
    "            if(line[-1] ==  ':'  ) :\n",
    "                \n",
    "                \n",
    "                id_value = int(line[:-1])\n",
    "            else:\n",
    "                \n",
    "                arr = line.split(',')\n",
    "                \n",
    "                MOVIE_ID = id_value\n",
    "                USER_ID = int(arr[0])\n",
    "                RATING = int(arr[1])\n",
    "                DATE =  arr[2]\n",
    "                YEAR =  arr[2] [:4]\n",
    "                \n",
    "                staging.append( deepcopy({'MOVIE_ID' : MOVIE_ID , 'USER_ID' : USER_ID , 'RATING' : RATING ,'DATE' : DATE , 'YEAR' : YEAR }))\n",
    "    return staging\n",
    "    "
   ]
  },
  {
   "cell_type": "code",
   "execution_count": 6,
   "metadata": {},
   "outputs": [
    {
     "name": "stdout",
     "output_type": "stream",
     "text": [
      "CPU times: user 43.1 s, sys: 927 ms, total: 44.1 s\n",
      "Wall time: 44.6 s\n"
     ]
    }
   ],
   "source": [
    "%%time\n",
    "\n",
    "tem1 =  file_process('combined_data_1.txt')\n",
    "#tem2 =  file_process('combined_data_2.txt')\n",
    "#tem3 =  file_process('combined_data_3.txt')\n",
    "#tem4 =  file_process('combined_data_4.txt')"
   ]
  },
  {
   "cell_type": "markdown",
   "metadata": {},
   "source": [
    "#### Converting into Dataframes"
   ]
  },
  {
   "cell_type": "code",
   "execution_count": 7,
   "metadata": {},
   "outputs": [
    {
     "name": "stdout",
     "output_type": "stream",
     "text": [
      "CPU times: user 9.01 s, sys: 17.4 s, total: 26.4 s\n",
      "Wall time: 3min 2s\n"
     ]
    }
   ],
   "source": [
    "%%time\n",
    "\n",
    "df1 = pd.DataFrame(tem1)\n",
    "#df2 = pd.DataFrame(tem2)\n",
    "#df3 = pd.DataFrame(tem3)\n",
    "#df4 = pd.DataFrame(tem4)\n"
   ]
  },
  {
   "cell_type": "code",
   "execution_count": 8,
   "metadata": {},
   "outputs": [],
   "source": [
    "#combined_df = pd.concat(df1,df2,df3,df4)\n",
    "#df1.to_parquet('dataframe.parquet')"
   ]
  },
  {
   "cell_type": "code",
   "execution_count": 9,
   "metadata": {},
   "outputs": [
    {
     "data": {
      "text/html": [
       "<div>\n",
       "<style scoped>\n",
       "    .dataframe tbody tr th:only-of-type {\n",
       "        vertical-align: middle;\n",
       "    }\n",
       "\n",
       "    .dataframe tbody tr th {\n",
       "        vertical-align: top;\n",
       "    }\n",
       "\n",
       "    .dataframe thead th {\n",
       "        text-align: right;\n",
       "    }\n",
       "</style>\n",
       "<table border=\"1\" class=\"dataframe\">\n",
       "  <thead>\n",
       "    <tr style=\"text-align: right;\">\n",
       "      <th></th>\n",
       "      <th>MOVIE_ID</th>\n",
       "      <th>USER_ID</th>\n",
       "      <th>RATING</th>\n",
       "      <th>DATE</th>\n",
       "      <th>YEAR</th>\n",
       "    </tr>\n",
       "  </thead>\n",
       "  <tbody>\n",
       "    <tr>\n",
       "      <th>0</th>\n",
       "      <td>1</td>\n",
       "      <td>1488844</td>\n",
       "      <td>3</td>\n",
       "      <td>2005-09-06</td>\n",
       "      <td>2005</td>\n",
       "    </tr>\n",
       "    <tr>\n",
       "      <th>1</th>\n",
       "      <td>1</td>\n",
       "      <td>822109</td>\n",
       "      <td>5</td>\n",
       "      <td>2005-05-13</td>\n",
       "      <td>2005</td>\n",
       "    </tr>\n",
       "    <tr>\n",
       "      <th>2</th>\n",
       "      <td>1</td>\n",
       "      <td>885013</td>\n",
       "      <td>4</td>\n",
       "      <td>2005-10-19</td>\n",
       "      <td>2005</td>\n",
       "    </tr>\n",
       "    <tr>\n",
       "      <th>3</th>\n",
       "      <td>1</td>\n",
       "      <td>30878</td>\n",
       "      <td>4</td>\n",
       "      <td>2005-12-26</td>\n",
       "      <td>2005</td>\n",
       "    </tr>\n",
       "    <tr>\n",
       "      <th>4</th>\n",
       "      <td>1</td>\n",
       "      <td>823519</td>\n",
       "      <td>3</td>\n",
       "      <td>2004-05-03</td>\n",
       "      <td>2004</td>\n",
       "    </tr>\n",
       "    <tr>\n",
       "      <th>5</th>\n",
       "      <td>1</td>\n",
       "      <td>893988</td>\n",
       "      <td>3</td>\n",
       "      <td>2005-11-17</td>\n",
       "      <td>2005</td>\n",
       "    </tr>\n",
       "    <tr>\n",
       "      <th>6</th>\n",
       "      <td>1</td>\n",
       "      <td>124105</td>\n",
       "      <td>4</td>\n",
       "      <td>2004-08-05</td>\n",
       "      <td>2004</td>\n",
       "    </tr>\n",
       "    <tr>\n",
       "      <th>7</th>\n",
       "      <td>1</td>\n",
       "      <td>1248029</td>\n",
       "      <td>3</td>\n",
       "      <td>2004-04-22</td>\n",
       "      <td>2004</td>\n",
       "    </tr>\n",
       "    <tr>\n",
       "      <th>8</th>\n",
       "      <td>1</td>\n",
       "      <td>1842128</td>\n",
       "      <td>4</td>\n",
       "      <td>2004-05-09</td>\n",
       "      <td>2004</td>\n",
       "    </tr>\n",
       "    <tr>\n",
       "      <th>9</th>\n",
       "      <td>1</td>\n",
       "      <td>2238063</td>\n",
       "      <td>3</td>\n",
       "      <td>2005-05-11</td>\n",
       "      <td>2005</td>\n",
       "    </tr>\n",
       "  </tbody>\n",
       "</table>\n",
       "</div>"
      ],
      "text/plain": [
       "   MOVIE_ID  USER_ID  RATING        DATE  YEAR\n",
       "0         1  1488844       3  2005-09-06  2005\n",
       "1         1   822109       5  2005-05-13  2005\n",
       "2         1   885013       4  2005-10-19  2005\n",
       "3         1    30878       4  2005-12-26  2005\n",
       "4         1   823519       3  2004-05-03  2004\n",
       "5         1   893988       3  2005-11-17  2005\n",
       "6         1   124105       4  2004-08-05  2004\n",
       "7         1  1248029       3  2004-04-22  2004\n",
       "8         1  1842128       4  2004-05-09  2004\n",
       "9         1  2238063       3  2005-05-11  2005"
      ]
     },
     "execution_count": 9,
     "metadata": {},
     "output_type": "execute_result"
    }
   ],
   "source": [
    "df1.head(10)"
   ]
  },
  {
   "cell_type": "markdown",
   "metadata": {},
   "source": [
    "#### Converting into a Parquet File "
   ]
  },
  {
   "cell_type": "code",
   "execution_count": 10,
   "metadata": {},
   "outputs": [],
   "source": [
    "%%time\n",
    "df1.to_parquet('dataframe.parquet')"
   ]
  },
  {
   "cell_type": "code",
   "execution_count": null,
   "metadata": {},
   "outputs": [],
   "source": []
  }
 ],
 "metadata": {
  "kernelspec": {
   "display_name": "Python 3 (ipykernel)",
   "language": "python",
   "name": "python3"
  },
  "language_info": {
   "codemirror_mode": {
    "name": "ipython",
    "version": 3
   },
   "file_extension": ".py",
   "mimetype": "text/x-python",
   "name": "python",
   "nbconvert_exporter": "python",
   "pygments_lexer": "ipython3",
   "version": "3.11.5"
  }
 },
 "nbformat": 4,
 "nbformat_minor": 2
}
